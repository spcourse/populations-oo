{
 "cells": [
  {
   "cell_type": "markdown",
   "id": "7e674cd4",
   "metadata": {},
   "source": [
    "# Visualizing data\n",
    "\n",
    "In this notebook we will be visualizing the data that we have gathered while experimenting with different parameters for our Rabbit and Fox model. You will come up with your own research question and answer it by analyzing plots that you make.\n",
    "\n",
    "In the previous step, we have generated a large number of CSV files, each containing the results of many repetitions of a specific experiment configuration. \n",
    "\n",
    "In the cell below, we have provided you with a function to read and aggregate data from multiple CSV files. `read_and_aggregate_data_from_dir()` takes a directory path containing CSV files and a list of aggregation functions as its input and returns a pandas DataFrame that aggregates the data from those files."
   ]
  },
  {
   "cell_type": "code",
   "execution_count": null,
   "id": "e3096817",
   "metadata": {},
   "outputs": [],
   "source": [
    "import os\n",
    "import pandas as pd\n",
    "import numpy as np\n",
    "\n",
    "import matplotlib.pyplot as plt\n",
    "import seaborn as sns\n",
    "\n",
    "%matplotlib inline\n",
    "\n",
    "def read_and_aggregate_data_from_dir(data_dir, aggregators, columns=['Rabbits', 'Foxes']):\n",
    "    \"\"\"\n",
    "    Reads and aggregates data from all files in `data_dir` and applies the functions in \n",
    "    `aggregators` to `columns`. By default, this will be applied to the columns 'Rabbits' \n",
    "    and 'Foxes'.\n",
    "    \n",
    "    Outputs a DataFrame in which every row is the aggregated value for a single file in \n",
    "    `data_dir`. Values get copied from the first entry of the csv, except for the values\n",
    "    in `columns`, which are excluded. New columns are generated for each combination of\n",
    "    aggregation function in `aggregators` and `columns`.\n",
    "    \"\"\"\n",
    "    \n",
    "    file_names = os.listdir(data_dir)\n",
    "\n",
    "    df = pd.DataFrame()\n",
    "    for file_name in file_names:\n",
    "        exp_df = pd.read_csv(f'{data_dir}/{file_name}')\n",
    "\n",
    "        # apply the aggregators to the desired columns\n",
    "        agg_df = exp_df[columns].aggregate(aggregators)\n",
    "\n",
    "        # transform the resulting dataframe to a dataframe with one single row\n",
    "        agg_row_df = agg_df.unstack().to_frame().T\n",
    "        agg_row_df.columns = [f'{col}_{agg}' for col, agg in agg_row_df.columns]\n",
    "\n",
    "        # find the other columns and select the first available value as default\n",
    "        other_column_names = [c for c in exp_df.columns if c not in columns]\n",
    "        other_columns = exp_df.loc[[0], other_column_names]\n",
    "\n",
    "        # rejoin the aggregated columns with the other data, creating a single row\n",
    "        agg_row = other_columns.join(agg_row_df)\n",
    "\n",
    "        # add the aggregated row to the output dataframe\n",
    "        df = pd.concat([df, agg_row], ignore_index=True)\n",
    "\n",
    "    return df"
   ]
  },
  {
   "cell_type": "markdown",
   "id": "8eeb75bb",
   "metadata": {},
   "source": [
    "### Using the function\n",
    "\n",
    "To use this function, simply call it and provide the directory path where your CSV files are located, as well as a list of aggregation functions you want to use. The function will read in all CSV files in the directory, apply the specified aggregators to the desired columns, and return a pandas DataFrame with the aggregated results.\n",
    "\n",
    "In the cell below you can find an example of generating a Dataframe where we use `np.sum` to add all the values for each CSV in the directory `'data'`. "
   ]
  },
  {
   "cell_type": "code",
   "execution_count": null,
   "id": "55e957d0",
   "metadata": {},
   "outputs": [],
   "source": [
    "aggregators = [np.sum]\n",
    "df = read_and_aggregate_data_from_dir('data', aggregators)\n",
    "\n",
    "display(df)"
   ]
  },
  {
   "cell_type": "markdown",
   "id": "23dd3ed0",
   "metadata": {},
   "source": [
    "### Answering questions\n",
    "\n",
    "We can use this data to answer a research question: *Does the number of rabbits at the end of a simulation increase as the birthrate increases?*\n",
    "\n",
    "We have included an example that shows you how to generate a simple plot below."
   ]
  },
  {
   "cell_type": "code",
   "execution_count": null,
   "id": "fd0345c9",
   "metadata": {},
   "outputs": [],
   "source": [
    "sns.boxplot(df, x='birthrate_rabbits', y='Rabbits_sum')\n",
    "plt.show()"
   ]
  },
  {
   "cell_type": "markdown",
   "id": "9f0fbea4",
   "metadata": {},
   "source": [
    "This boxplot shows that as the birthrate of the Rabbits increases, the number of Rabbits also increases; answering our research question. We can also see that there is high variance in the number of Rabbits. \n",
    "\n",
    "A hypothesis for the observed variance in the total number of Rabbits could be: *This is caused by the different possible values for the birthrates of the Foxes*. Which can be proven by analysing the plot below."
   ]
  },
  {
   "cell_type": "code",
   "execution_count": null,
   "id": "d757eb55",
   "metadata": {},
   "outputs": [],
   "source": [
    "sns.stripplot(df, x='birthrate_rabbits', y='Rabbits_sum', hue='birthrate_foxes', legend='full')\n",
    "plt.show()"
   ]
  },
  {
   "cell_type": "markdown",
   "id": "a2a8717b",
   "metadata": {},
   "source": [
    "This stripplot can be used to confirm that as the birthrate of the Foxes increases, the total number of Rabbits decreases. "
   ]
  },
  {
   "cell_type": "markdown",
   "id": "15265b9c",
   "metadata": {},
   "source": [
    "### Doing research\n",
    "\n",
    "Now it is up to you to come up with your own research question that you can answer by creating interesting figures. **In the cells at the bottom of this notebook, clearly state your research questions and hypotheses. For each of your figures, explain what is shown and what can be concluded from the figure. If you make additions to the code or do additional experiments to get more data, clearly list and explain each of them.**\n",
    "\n",
    "Select a topic. You could, for example, try to find a combination of birthrates for which the population of Rabbits is reasonably stable: i.e., the rabbits don't die out, but they also don't overpopulate the system. Keep in mind that this is a highly chaotic system, you can never guarantee an outcome a 100%. In this case you could define stable as \"for around half my experiments there are at least 10 rabbits left at the end of the simulation\". In other cases, the foxes ate every single rabbit. \n",
    "\n",
    "Be creative!\n",
    "\n",
    "### Some help\n",
    "\n",
    "* Of course just having the sum of all Rabbits and Foxes isn't the most interesting or usefull. It is up to you to find and add good aggregation functions to the list! \n",
    "* In some cases you might want to count the number of values that are equal to some value, or use a different aggregation function that is not available directly in numpy or pandas. In that case you can define your own aggregation function! Anything should work, as long as the input for the function is a Series, and the output of the function is a single number:\n",
    "  ```Python\n",
    "  def zero_count(data_series):\n",
    "      return data_series.eq(0).sum()\n",
    "  aggregators = [np.sum, zero_count]\n",
    "  ``` \n",
    "  This function for example calculates the number of entries that are equal to zero.\n",
    "* Take a good look at the [Seaborn gallery](https://seaborn.pydata.org/examples/index.html). This page is full of cool examples of plots that you can try out. \n",
    "* You are also allowed (*but certainly not required*) to add to the simulation and see how your changes affect the dynamics!\n",
    "\n",
    "\n",
    "**List your research questions and hypotheses below**\n",
    "\n",
    "YOUR ANSWER HERE\n",
    "\n",
    "**List and explain any additions to the code.**\n",
    "\n",
    "YOUR ANSWER HERE\n",
    "\n",
    "**List and explain any extra experiments you did to get more data.**\n",
    "\n",
    "YOUR ANSWER HERE\n",
    "\n",
    "*Every plot below should have its own separate conclusion and potential next steps to explore.*"
   ]
  },
  {
   "cell_type": "code",
   "execution_count": null,
   "id": "51aba07e",
   "metadata": {},
   "outputs": [],
   "source": []
  }
 ],
 "metadata": {
  "kernelspec": {
   "display_name": "Python 3 (ipykernel)",
   "language": "python",
   "name": "python3"
  },
  "language_info": {
   "codemirror_mode": {
    "name": "ipython",
    "version": 3
   },
   "file_extension": ".py",
   "mimetype": "text/x-python",
   "name": "python",
   "nbconvert_exporter": "python",
   "pygments_lexer": "ipython3",
   "version": "3.9.15"
  }
 },
 "nbformat": 4,
 "nbformat_minor": 5
}
